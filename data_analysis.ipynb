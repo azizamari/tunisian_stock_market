{
 "cells": [
  {
   "cell_type": "code",
   "execution_count": 37,
   "id": "37e86692",
   "metadata": {},
   "outputs": [],
   "source": [
    "import pandas as pd\n",
    "import numpy as np\n",
    "import matplotlib.pyplot as plt\n",
    "import seaborn as sns\n",
    "sns.set_style('whitegrid')"
   ]
  },
  {
   "cell_type": "code",
   "execution_count": 2,
   "id": "ee5ac17e",
   "metadata": {},
   "outputs": [],
   "source": [
    "stocks=pd.read_csv('data/ALL_DATA.csv')"
   ]
  },
  {
   "cell_type": "code",
   "execution_count": 4,
   "id": "e1740735",
   "metadata": {},
   "outputs": [
    {
     "data": {
      "text/html": [
       "<div>\n",
       "<style scoped>\n",
       "    .dataframe tbody tr th:only-of-type {\n",
       "        vertical-align: middle;\n",
       "    }\n",
       "\n",
       "    .dataframe tbody tr th {\n",
       "        vertical-align: top;\n",
       "    }\n",
       "\n",
       "    .dataframe thead th {\n",
       "        text-align: right;\n",
       "    }\n",
       "</style>\n",
       "<table border=\"1\" class=\"dataframe\">\n",
       "  <thead>\n",
       "    <tr style=\"text-align: right;\">\n",
       "      <th></th>\n",
       "      <th>symbole</th>\n",
       "      <th>date</th>\n",
       "      <th>ouverture</th>\n",
       "      <th>haut</th>\n",
       "      <th>bas</th>\n",
       "      <th>cloture</th>\n",
       "      <th>volume</th>\n",
       "    </tr>\n",
       "  </thead>\n",
       "  <tbody>\n",
       "    <tr>\n",
       "      <th>0</th>\n",
       "      <td>TGH</td>\n",
       "      <td>2022-12-30</td>\n",
       "      <td>0.600000</td>\n",
       "      <td>0.600000</td>\n",
       "      <td>0.600000</td>\n",
       "      <td>0.600000</td>\n",
       "      <td>146218</td>\n",
       "    </tr>\n",
       "    <tr>\n",
       "      <th>1</th>\n",
       "      <td>ADWYA</td>\n",
       "      <td>2022-12-30</td>\n",
       "      <td>5.950000</td>\n",
       "      <td>5.950000</td>\n",
       "      <td>5.950000</td>\n",
       "      <td>5.950000</td>\n",
       "      <td>9422</td>\n",
       "    </tr>\n",
       "    <tr>\n",
       "      <th>2</th>\n",
       "      <td>BH</td>\n",
       "      <td>2022-12-30</td>\n",
       "      <td>13.560000</td>\n",
       "      <td>14.000000</td>\n",
       "      <td>13.560000</td>\n",
       "      <td>13.560000</td>\n",
       "      <td>4227</td>\n",
       "    </tr>\n",
       "    <tr>\n",
       "      <th>3</th>\n",
       "      <td>SMART</td>\n",
       "      <td>2022-12-30</td>\n",
       "      <td>24.200000</td>\n",
       "      <td>24.200000</td>\n",
       "      <td>23.950000</td>\n",
       "      <td>24.200000</td>\n",
       "      <td>7375</td>\n",
       "    </tr>\n",
       "    <tr>\n",
       "      <th>4</th>\n",
       "      <td>PGH</td>\n",
       "      <td>2022-12-30</td>\n",
       "      <td>8.780000</td>\n",
       "      <td>8.780000</td>\n",
       "      <td>8.780000</td>\n",
       "      <td>8.780000</td>\n",
       "      <td>1</td>\n",
       "    </tr>\n",
       "    <tr>\n",
       "      <th>...</th>\n",
       "      <td>...</td>\n",
       "      <td>...</td>\n",
       "      <td>...</td>\n",
       "      <td>...</td>\n",
       "      <td>...</td>\n",
       "      <td>...</td>\n",
       "      <td>...</td>\n",
       "    </tr>\n",
       "    <tr>\n",
       "      <th>168312</th>\n",
       "      <td>SPDIT</td>\n",
       "      <td>2010-01-04</td>\n",
       "      <td>6.050000</td>\n",
       "      <td>6.200000</td>\n",
       "      <td>6.050000</td>\n",
       "      <td>6.200000</td>\n",
       "      <td>3180</td>\n",
       "    </tr>\n",
       "    <tr>\n",
       "      <th>168313</th>\n",
       "      <td>TJL</td>\n",
       "      <td>2010-01-04</td>\n",
       "      <td>23.300000</td>\n",
       "      <td>23.310000</td>\n",
       "      <td>23.300000</td>\n",
       "      <td>23.310000</td>\n",
       "      <td>1143</td>\n",
       "    </tr>\n",
       "    <tr>\n",
       "      <th>168314</th>\n",
       "      <td>MNP</td>\n",
       "      <td>2010-01-04</td>\n",
       "      <td>25.235221</td>\n",
       "      <td>25.452766</td>\n",
       "      <td>25.235221</td>\n",
       "      <td>25.289607</td>\n",
       "      <td>2739</td>\n",
       "    </tr>\n",
       "    <tr>\n",
       "      <th>168315</th>\n",
       "      <td>ARTES</td>\n",
       "      <td>2010-01-04</td>\n",
       "      <td>8.223726</td>\n",
       "      <td>8.358541</td>\n",
       "      <td>8.223726</td>\n",
       "      <td>8.358541</td>\n",
       "      <td>1851</td>\n",
       "    </tr>\n",
       "    <tr>\n",
       "      <th>168316</th>\n",
       "      <td>MGR</td>\n",
       "      <td>2010-01-04</td>\n",
       "      <td>1.112717</td>\n",
       "      <td>1.119942</td>\n",
       "      <td>1.112717</td>\n",
       "      <td>1.119942</td>\n",
       "      <td>5314</td>\n",
       "    </tr>\n",
       "  </tbody>\n",
       "</table>\n",
       "<p>168317 rows × 7 columns</p>\n",
       "</div>"
      ],
      "text/plain": [
       "       symbole        date  ouverture       haut        bas    cloture  volume\n",
       "0          TGH  2022-12-30   0.600000   0.600000   0.600000   0.600000  146218\n",
       "1        ADWYA  2022-12-30   5.950000   5.950000   5.950000   5.950000    9422\n",
       "2           BH  2022-12-30  13.560000  14.000000  13.560000  13.560000    4227\n",
       "3        SMART  2022-12-30  24.200000  24.200000  23.950000  24.200000    7375\n",
       "4          PGH  2022-12-30   8.780000   8.780000   8.780000   8.780000       1\n",
       "...        ...         ...        ...        ...        ...        ...     ...\n",
       "168312   SPDIT  2010-01-04   6.050000   6.200000   6.050000   6.200000    3180\n",
       "168313     TJL  2010-01-04  23.300000  23.310000  23.300000  23.310000    1143\n",
       "168314     MNP  2010-01-04  25.235221  25.452766  25.235221  25.289607    2739\n",
       "168315   ARTES  2010-01-04   8.223726   8.358541   8.223726   8.358541    1851\n",
       "168316     MGR  2010-01-04   1.112717   1.119942   1.112717   1.119942    5314\n",
       "\n",
       "[168317 rows x 7 columns]"
      ]
     },
     "execution_count": 4,
     "metadata": {},
     "output_type": "execute_result"
    }
   ],
   "source": [
    "stocks"
   ]
  },
  {
   "cell_type": "code",
   "execution_count": 6,
   "id": "ee7b098f",
   "metadata": {},
   "outputs": [
    {
     "data": {
      "text/plain": [
       "(168317, 7)"
      ]
     },
     "execution_count": 6,
     "metadata": {},
     "output_type": "execute_result"
    }
   ],
   "source": [
    "stocks.shape"
   ]
  },
  {
   "cell_type": "code",
   "execution_count": 7,
   "id": "3aaa5653",
   "metadata": {},
   "outputs": [
    {
     "data": {
      "text/plain": [
       "symbole       0\n",
       "date          0\n",
       "ouverture    31\n",
       "haut         33\n",
       "bas          23\n",
       "cloture      33\n",
       "volume        0\n",
       "dtype: int64"
      ]
     },
     "execution_count": 7,
     "metadata": {},
     "output_type": "execute_result"
    }
   ],
   "source": [
    "stocks.isnull().sum()"
   ]
  },
  {
   "cell_type": "code",
   "execution_count": 12,
   "id": "a08eb831",
   "metadata": {},
   "outputs": [
    {
     "data": {
      "text/plain": [
       "array([  2335,   2491,   2971,   3135,   3199,   3454,   3521,   3776,\n",
       "         4100,   4301,   4388,  11490,  11542,  42100,  57515,  58008,\n",
       "        78573,  79251,  79376,  79826,  80302,  81053,  81362,  81942,\n",
       "        81975,  82206,  82289,  98012, 106753, 106822, 107417],\n",
       "      dtype=int64)"
      ]
     },
     "execution_count": 12,
     "metadata": {},
     "output_type": "execute_result"
    }
   ],
   "source": [
    "np.where(stocks['ouverture'].isnull())[0]"
   ]
  },
  {
   "cell_type": "code",
   "execution_count": 13,
   "id": "fc7bad52",
   "metadata": {},
   "outputs": [
    {
     "data": {
      "text/plain": [
       "symbole           BHASS\n",
       "date         2022-11-03\n",
       "ouverture           NaN\n",
       "haut                NaN\n",
       "bas                50.0\n",
       "cloture             NaN\n",
       "volume               38\n",
       "Name: 2335, dtype: object"
      ]
     },
     "execution_count": 13,
     "metadata": {},
     "output_type": "execute_result"
    }
   ],
   "source": [
    "stocks.iloc[2335]"
   ]
  },
  {
   "cell_type": "markdown",
   "id": "323cd805",
   "metadata": {},
   "source": [
    "We could impute the null rows buy hey they are so few, gonna just drop them xD"
   ]
  },
  {
   "cell_type": "code",
   "execution_count": 19,
   "id": "8f7c54de",
   "metadata": {},
   "outputs": [],
   "source": [
    "stocks.dropna(inplace=True)"
   ]
  },
  {
   "cell_type": "code",
   "execution_count": 21,
   "id": "8ca30359",
   "metadata": {},
   "outputs": [
    {
     "data": {
      "text/html": [
       "<div>\n",
       "<style scoped>\n",
       "    .dataframe tbody tr th:only-of-type {\n",
       "        vertical-align: middle;\n",
       "    }\n",
       "\n",
       "    .dataframe tbody tr th {\n",
       "        vertical-align: top;\n",
       "    }\n",
       "\n",
       "    .dataframe thead th {\n",
       "        text-align: right;\n",
       "    }\n",
       "</style>\n",
       "<table border=\"1\" class=\"dataframe\">\n",
       "  <thead>\n",
       "    <tr style=\"text-align: right;\">\n",
       "      <th></th>\n",
       "      <th>count</th>\n",
       "      <th>mean</th>\n",
       "      <th>std</th>\n",
       "      <th>min</th>\n",
       "      <th>25%</th>\n",
       "      <th>50%</th>\n",
       "      <th>75%</th>\n",
       "      <th>max</th>\n",
       "    </tr>\n",
       "  </thead>\n",
       "  <tbody>\n",
       "    <tr>\n",
       "      <th>ouverture</th>\n",
       "      <td>168281.0</td>\n",
       "      <td>15.156818</td>\n",
       "      <td>30.933802</td>\n",
       "      <td>0.12</td>\n",
       "      <td>3.54</td>\n",
       "      <td>7.16</td>\n",
       "      <td>14.40</td>\n",
       "      <td>602.75</td>\n",
       "    </tr>\n",
       "    <tr>\n",
       "      <th>haut</th>\n",
       "      <td>168281.0</td>\n",
       "      <td>15.252414</td>\n",
       "      <td>31.059811</td>\n",
       "      <td>0.13</td>\n",
       "      <td>3.58</td>\n",
       "      <td>7.21</td>\n",
       "      <td>14.49</td>\n",
       "      <td>602.75</td>\n",
       "    </tr>\n",
       "    <tr>\n",
       "      <th>bas</th>\n",
       "      <td>168281.0</td>\n",
       "      <td>15.058650</td>\n",
       "      <td>30.801951</td>\n",
       "      <td>0.12</td>\n",
       "      <td>3.50</td>\n",
       "      <td>7.10</td>\n",
       "      <td>14.30</td>\n",
       "      <td>602.75</td>\n",
       "    </tr>\n",
       "    <tr>\n",
       "      <th>cloture</th>\n",
       "      <td>168281.0</td>\n",
       "      <td>15.174964</td>\n",
       "      <td>30.944945</td>\n",
       "      <td>0.12</td>\n",
       "      <td>3.55</td>\n",
       "      <td>7.18</td>\n",
       "      <td>14.40</td>\n",
       "      <td>602.75</td>\n",
       "    </tr>\n",
       "    <tr>\n",
       "      <th>volume</th>\n",
       "      <td>168281.0</td>\n",
       "      <td>14424.344430</td>\n",
       "      <td>79254.737982</td>\n",
       "      <td>0.00</td>\n",
       "      <td>424.00</td>\n",
       "      <td>2311.00</td>\n",
       "      <td>9100.00</td>\n",
       "      <td>8264824.00</td>\n",
       "    </tr>\n",
       "  </tbody>\n",
       "</table>\n",
       "</div>"
      ],
      "text/plain": [
       "              count          mean           std   min     25%      50%  \\\n",
       "ouverture  168281.0     15.156818     30.933802  0.12    3.54     7.16   \n",
       "haut       168281.0     15.252414     31.059811  0.13    3.58     7.21   \n",
       "bas        168281.0     15.058650     30.801951  0.12    3.50     7.10   \n",
       "cloture    168281.0     15.174964     30.944945  0.12    3.55     7.18   \n",
       "volume     168281.0  14424.344430  79254.737982  0.00  424.00  2311.00   \n",
       "\n",
       "               75%         max  \n",
       "ouverture    14.40      602.75  \n",
       "haut         14.49      602.75  \n",
       "bas          14.30      602.75  \n",
       "cloture      14.40      602.75  \n",
       "volume     9100.00  8264824.00  "
      ]
     },
     "execution_count": 21,
     "metadata": {},
     "output_type": "execute_result"
    }
   ],
   "source": [
    "stocks.describe().T"
   ]
  },
  {
   "cell_type": "markdown",
   "id": "a56e264c",
   "metadata": {},
   "source": [
    "### Most traded stock ? \n",
    "Having largest volume sum"
   ]
  },
  {
   "cell_type": "code",
   "execution_count": 45,
   "id": "b8a47c79",
   "metadata": {},
   "outputs": [],
   "source": [
    "volume_sum=stocks.groupby('symbole')['volume'].sum().sort_values(ascending=False)"
   ]
  },
  {
   "cell_type": "code",
   "execution_count": 61,
   "id": "ab5ff661",
   "metadata": {},
   "outputs": [
    {
     "data": {
      "image/png": "[encoded data removed]",
      "text/plain": [
       "<Figure size 576x432 with 1 Axes>"
      ]
     },
     "metadata": {},
     "output_type": "display_data"
    }
   ],
   "source": [
    "palette_color = sns.color_palette('Set3')\n",
    "plt.figure(figsize=(8,6))\n",
    "plt.pie(volume_sum.values[:7],labels=volume_sum.keys()[:7], colors=palette_color, autopct='%.0f%%')\n",
    "plt.show()"
   ]
  }
 ],
 "metadata": {
  "kernelspec": {
   "display_name": "Python 3 (ipykernel)",
   "language": "python",
   "name": "python3"
  },
  "language_info": {
   "codemirror_mode": {
    "name": "ipython",
    "version": 3
   },
   "file_extension": ".py",
   "mimetype": "text/x-python",
   "name": "python",
   "nbconvert_exporter": "python",
   "pygments_lexer": "ipython3",
   "version": "3.9.12"
  }
 },
 "nbformat": 4,
 "nbformat_minor": 5
}
